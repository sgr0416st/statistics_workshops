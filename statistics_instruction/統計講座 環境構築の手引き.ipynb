{
 "cells": [
  {
   "cell_type": "markdown",
   "metadata": {},
   "source": [
    "## はじめに\n",
    "\n",
    "統計講座では、各章で理論を説明してもらった後に、その統計手法を用いたデモンストレーションを行ってもらおうと思います。<br>\n",
    "統計を行うための代表的なツールとしてよく挙げられるのが、<br>\n",
    "「SPSS」「R」「Excel」<br>\n",
    "あたりだと思います。<br>\n",
    "\n",
    "実際にどのようなツールを使って統計するのかは個人の自由です。<br>\n",
    "が、今回は特にRを用いてデモを行ってもらおうと思っています。<br>\n",
    "その理由として、Rには以下のような特徴があります。<br>\n",
    "- 非常に多彩で高度な解析が可能\n",
    "- 完全にフリー\n",
    "- 様々なパッケージ（拡張機能）が開発されているため、最新の手法でも割と実装されてたりする\n",
    "- メジャーなツールのため、ドキュメントが多彩で調べやすい\n",
    "\n",
    "Rは、有料のSPSSと同等の高度な解析が可能であり、Excelで実現出来ないことも出来ます。<br>\n",
    "唯一のデメリットは、プログラミング言語のため少し難しいことですが、<br>\n",
    "Rにはこれを補ってあまりある可能性があると思います。<br>\n",
    "\n",
    "以降の章では、Rの使い方に関してレクチャーします。<br>"
   ]
  },
  {
   "cell_type": "markdown",
   "metadata": {},
   "source": [
    "## 環境構築\n",
    "\n",
    "今回はRを使っていれば自由とします。いくつかおすすめの環境を紹介します。"
   ]
  },
  {
   "cell_type": "markdown",
   "metadata": {},
   "source": [
    "### Rstudio (R notebook)\n",
    "\n",
    "おすすめです。インストールが簡単です。  \n",
    "統合開発環境なので、自分なりに慣れればカスタマイズ出来て良いのかもしれません。  \n",
    "早くR使えるようになりたい人におすすめ  \n",
    "R notebook という Jupyter notebook に似て、解析過程を記録することもできるのでかなり良いかと思います。  \n",
    "pythonとか仮想化環境とかは知らなくてもいいけど、R周りの知識は環境構築含めてきちんと押さえたい人におすすめ  "
   ]
  },
  {
   "cell_type": "markdown",
   "metadata": {},
   "source": [
    "[RおよびRStudioのインストール方法(Mac/Windows)](https://qiita.com/daifuku_mochi2/items/ad0b398e6affd0688c97)  \n",
    "上記のリンクがわかりやすくまとまってます！"
   ]
  },
  {
   "cell_type": "markdown",
   "metadata": {},
   "source": [
    "### docker + anaconda + jupyter + R\n",
    "自分はこれで進めていくつもりです。<br>\n",
    "環境構築とかが面倒でも良い環境で解析したい人にはおすすめ　<br>\n",
    "(一応、バックエンドが Hyper-V なので、windowsの人は VMWare Player と共存ができないので要注意)\n",
    "\n",
    "[私のデータ解析環境構築 for Windows (Docker + anaconda + Jupyter + R)](https://qiita.com/sgr0416st/private/c9d30e7b697e1c85e5de)  \n",
    "[私のデータ解析環境構築 for Mac (Docker + anaconda + jupiter + R)](https://qiita.com/sgr0416st/private/59c4fb5965be96949221)   \n",
    "上記の記事にまとめました！"
   ]
  },
  {
   "cell_type": "markdown",
   "metadata": {},
   "source": [
    "## hello R"
   ]
  },
  {
   "cell_type": "code",
   "execution_count": 1,
   "metadata": {},
   "outputs": [
    {
     "data": {
      "text/html": [
       "2"
      ],
      "text/latex": [
       "2"
      ],
      "text/markdown": [
       "2"
      ],
      "text/plain": [
       "[1] 2"
      ]
     },
     "metadata": {},
     "output_type": "display_data"
    }
   ],
   "source": [
    "1+1"
   ]
  },
  {
   "cell_type": "code",
   "execution_count": 5,
   "metadata": {},
   "outputs": [
    {
     "data": {
      "image/png": "[encoded data removed]",
      "text/plain": [
       "Plot with title “正規分布”"
      ]
     },
     "metadata": {},
     "output_type": "display_data"
    }
   ],
   "source": [
    "curve(dnorm,-4,4, main = \"正規分布\", cex.main = 0.8,  cex.lab  = 0.8, cex.axis = 0.7) "
   ]
  },
  {
   "cell_type": "code",
   "execution_count": null,
   "metadata": {},
   "outputs": [],
   "source": []
  }
 ],
 "metadata": {
  "hide_input": false,
  "kernelspec": {
   "display_name": "R",
   "language": "R",
   "name": "ir"
  },
  "language_info": {
   "codemirror_mode": "r",
   "file_extension": ".r",
   "mimetype": "text/x-r-source",
   "name": "R",
   "pygments_lexer": "r",
   "version": "3.5.1"
  },
  "toc": {
   "base_numbering": 1,
   "nav_menu": {},
   "number_sections": true,
   "sideBar": true,
   "skip_h1_title": false,
   "title_cell": "Table of Contents",
   "title_sidebar": "Contents",
   "toc_cell": false,
   "toc_position": {},
   "toc_section_display": true,
   "toc_window_display": false
  }
 },
 "nbformat": 4,
 "nbformat_minor": 2
}
