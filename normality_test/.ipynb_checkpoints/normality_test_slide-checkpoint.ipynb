{
 "cells": [
  {
   "cell_type": "markdown",
   "metadata": {
    "slideshow": {
     "slide_type": "slide"
    },
    "toc": true
   },
   "source": [
    "<h1>Table of Contents<span class=\"tocSkip\"></span></h1>\n",
    "<div class=\"toc\"><ul class=\"toc-item\"><li><span><a href=\"#WHAT\" data-toc-modified-id=\"WHAT-1\">WHAT</a></span><ul class=\"toc-item\"><li><span><a href=\"#正規性の検定とは\" data-toc-modified-id=\"正規性の検定とは-1.1\">正規性の検定とは</a></span><ul class=\"toc-item\"><li><span><a href=\"#A.-正規分布とは\" data-toc-modified-id=\"A.-正規分布とは-1.1.1\">A. 正規分布とは</a></span></li><li><span><a href=\"#B.-検定とは\" data-toc-modified-id=\"B.-検定とは-1.1.2\">B. 検定とは</a></span><ul class=\"toc-item\"><li><span><a href=\"#1.-帰無仮説の設定\" data-toc-modified-id=\"1.-帰無仮説の設定-1.1.2.1\">1. 帰無仮説の設定</a></span></li><li><span><a href=\"#2.-統計量Tの計算\" data-toc-modified-id=\"2.-統計量Tの計算-1.1.2.2\">2. 統計量Tの計算</a></span></li><li><span><a href=\"#3.-統計量Tと棄却域の比較による帰無仮説の採用または棄却\" data-toc-modified-id=\"3.-統計量Tと棄却域の比較による帰無仮説の採用または棄却-1.1.2.3\">3. 統計量Tと棄却域の比較による帰無仮説の採用または棄却</a></span></li></ul></li></ul></li></ul></li><li><span><a href=\"#WHY\" data-toc-modified-id=\"WHY-2\">WHY</a></span><ul class=\"toc-item\"><li><span><a href=\"#1.-データをきちんと収集できたか確かめる\" data-toc-modified-id=\"1.-データをきちんと収集できたか確かめる-2.1\">1. データをきちんと収集できたか確かめる</a></span></li><li><span><a href=\"#2.-パラメトリック検定が可能か調べる\" data-toc-modified-id=\"2.-パラメトリック検定が可能か調べる-2.2\">2. パラメトリック検定が可能か調べる</a></span></li></ul></li><li><span><a href=\"#HOW\" data-toc-modified-id=\"HOW-3\">HOW</a></span><ul class=\"toc-item\"><li><span><a href=\"#A.-データ生成\" data-toc-modified-id=\"A.-データ生成-3.1\">A. データ生成</a></span></li><li><span><a href=\"#B.-視覚的に確認する方法\" data-toc-modified-id=\"B.-視覚的に確認する方法-3.2\">B. 視覚的に確認する方法</a></span><ul class=\"toc-item\"><li><span><a href=\"#1.-ヒストグラム\" data-toc-modified-id=\"1.-ヒストグラム-3.2.1\">1. ヒストグラム</a></span></li><li><span><a href=\"#2.-Q-Qプロット\" data-toc-modified-id=\"2.-Q-Qプロット-3.2.2\">2. Q-Qプロット</a></span></li></ul></li><li><span><a href=\"#C.-正規性の検定\" data-toc-modified-id=\"C.-正規性の検定-3.3\">C. 正規性の検定</a></span><ul class=\"toc-item\"><li><span><a href=\"#1.-シャピロ・ウィルク検定\" data-toc-modified-id=\"1.-シャピロ・ウィルク検定-3.3.1\">1. シャピロ・ウィルク検定</a></span></li><li><span><a href=\"#2.-コルモゴロフ・スミルノフ検定\" data-toc-modified-id=\"2.-コルモゴロフ・スミルノフ検定-3.3.2\">2. コルモゴロフ・スミルノフ検定</a></span></li></ul></li></ul></li><li><span><a href=\"#まとめ\" data-toc-modified-id=\"まとめ-4\">まとめ</a></span></li></ul></div>"
   ]
  },
  {
   "cell_type": "markdown",
   "metadata": {
    "slideshow": {
     "slide_type": "slide"
    }
   },
   "source": [
    "# 正規性の検定"
   ]
  },
  {
   "cell_type": "markdown",
   "metadata": {
    "hide_input": true,
    "lang": "en",
    "slideshow": {
     "slide_type": "slide"
    }
   },
   "source": [
    "## WHAT"
   ]
  },
  {
   "cell_type": "markdown",
   "metadata": {
    "hide_input": true,
    "lang": "en",
    "slideshow": {
     "slide_type": "subslide"
    }
   },
   "source": [
    "### 正規性の検定とは\n",
    "ある分布が正規分布に従っているかどうかを調べる検定を指します。"
   ]
  },
  {
   "cell_type": "code",
   "execution_count": 10,
   "metadata": {
    "code_folding": [],
    "hide_input": true,
    "scrolled": true,
    "slideshow": {
     "slide_type": "fragment"
    }
   },
   "outputs": [
    {
     "data": {
      "image/png": "[encoded data removed]",
      "text/plain": [
       "Plot with title “正規分布”"
      ]
     },
     "metadata": {},
     "output_type": "display_data"
    }
   ],
   "source": [
    "options(repr.plot.width=2.8, repr.plot.height=2.8) # 描画領域の指定\n",
    "par(family = \"IPAGothic\") # 日本語を使うためのオプション\n",
    "par(mar = c(3, 4, 3, 1)) #  余白を何行分とるか指定．下，左，上，右の順． 初期状態では 5.1, 4.1, 4.1, 2.1\n",
    "par(mgp = c(1.3, 0.5, 0))  #  ラベル文字， 軸の数字、軸の位置を何行分ずらすかを指定． 初期状態は c(3, 1, 0) \n",
    "\n",
    "\n",
    "curve(dnorm,-4,4, main = \"正規分布\", cex.main = 0.8,  cex.lab  = 0.8, cex.axis = 0.7) "
   ]
  },
  {
   "cell_type": "markdown",
   "metadata": {
    "slideshow": {
     "slide_type": "subslide"
    }
   },
   "source": [
    "今回は以下の方法で、データが正規性を持つか確認します。\n",
    "\n",
    "- **ヒストグラムやqqプロットを用いて視覚的に確認する**\n",
    "- **シャピロ-ウィルクの正規性の検定**\n",
    "- **コルモゴロフ-スミルノフ検定**"
   ]
  },
  {
   "cell_type": "markdown",
   "metadata": {
    "slideshow": {
     "slide_type": "slide"
    }
   },
   "source": [
    "#### A. 正規分布とは\n",
    "\n",
    "> 世の中の多くの分布が正規分布であるということを示すために、  \n",
    "> 決定的に重要な前提が「世の中で起こることはすべてが  \n",
    "> 確率の問題である」という思想である。  (中略)   \n",
    "> この世に対するこのような前提があるから、  \n",
    "> 統計という学問は、 <u>**確率論**</u> から始まるのである。\n",
    "\n",
    "[なぜ世の中の分布の多くは正規分布に従うのか](https://tomsekiguchi.hatenablog.com/entry/20160410/1460311315)"
   ]
  },
  {
   "cell_type": "markdown",
   "metadata": {
    "slideshow": {
     "slide_type": "subslide"
    }
   },
   "source": [
    "> 正規分布は統計学を理解する上で、非常に大事な分布ですが、  \n",
    "> その大きな理由がこの特徴(<u>**中心極限定理**</u>)と言います。  \n",
    "> 抽出元の母集団の分布がどのような分布に従っていても、  \n",
    "> nが大きければ、その標本平均の分布は正規分布に従うのです。  \n",
    "> 二項分布だろうと、ポアソン分布だろうと、指数分布だろうと、あるいは未知の分布だろうと、\n",
    "> その<u>**標本平均の分布は正規分布に従います。**</u>（n→∞ならば完全に従う）  \n",
    "\n",
    "> <u>**中心極限定理**</u>  \n",
    "> 母平均 $μ$ ,母分散 $σ^{2}$ の母集団から大きさ $n$ の標本を無作為に抽出する  \n",
    "> とき、 標本平均 $\\overline{X}$ は, $n$ が大きい場合 $N(μ,\\frac{σ^{2}}{n})$ に近似的に従う。\n",
    "\n",
    "[正規分布のわかりやすいまとめ](https://to-kei.net/distribution/normal-distribution/#i-4)"
   ]
  },
  {
   "cell_type": "markdown",
   "metadata": {
    "slideshow": {
     "slide_type": "subslide"
    }
   },
   "source": [
    "<div style=\"float:left;\">\n",
    "    <img src=\"https://atarimae.biz/wp-content/uploads/2017/06/dice2-177.png\"/ width=250>\n",
    "</div>\n",
    "<div style=\"float:left;\">\n",
    "    <img src=\"https://atarimae.biz/wp-content/uploads/2017/06/dice3-177.png\"/ width=250>\n",
    "</div>\n",
    "<div style=\"float:left;\">\n",
    "    <img src=\"https://atarimae.biz/wp-content/uploads/2017/06/dice10-177.png\"/ width=250>\n",
    "</div>\n",
    "<br clear=\"both\"/>  \n",
    "\n",
    "[中心極限定理の意味](https://atarimae.biz/archives/17470)  "
   ]
  },
  {
   "cell_type": "markdown",
   "metadata": {
    "slideshow": {
     "slide_type": "fragment"
    }
   },
   "source": [
    "イメージして欲しいのは、ある同一の分布からデータをたくさん集めると、<br>\n",
    "<u>**元の分布がどのような分布であれ、nが増えるほど正規分布に近づく**</u>、という事です。<br>\n",
    "(詳しい解説はまた今度あるかもしれません)  "
   ]
  },
  {
   "cell_type": "markdown",
   "metadata": {
    "slideshow": {
     "slide_type": "subslide"
    }
   },
   "source": [
    "#### B. 検定とは\n",
    "データが望んだ性質を持っているかどうかを、<u>**確率をもとに判断**</u>する手法です。  \n",
    "具体的には、以下の手順で行われます。  "
   ]
  },
  {
   "cell_type": "markdown",
   "metadata": {
    "slideshow": {
     "slide_type": "fragment"
    }
   },
   "source": [
    "##### 1. 帰無仮説の設定\n",
    "支持したい対立仮説に対して、帰無仮説と呼ばれる、否定したい仮説を設定します。  "
   ]
  },
  {
   "cell_type": "markdown",
   "metadata": {
    "slideshow": {
     "slide_type": "fragment"
    }
   },
   "source": [
    "##### 2. 統計量Tの計算\n",
    "調べたいデータの統計量を計算します。  "
   ]
  },
  {
   "cell_type": "markdown",
   "metadata": {
    "slideshow": {
     "slide_type": "fragment"
    }
   },
   "source": [
    "##### 3. 統計量Tと棄却域の比較による帰無仮説の採用または棄却\n",
    "帰無仮説が正しいとした仮定とき、観測した事象よりも極端なことが起こる確率 (<u>**=p値**</u>) を求めます。  \n",
    "その後、事前に設定しておいた有意水準$ P(reject | H_{0}) $ (＝ 0.05 が基本) と比較して下回っていれば、  \n",
    "帰無仮説が棄却され、対立仮説が支持されます。  \n",
    "なお、<u>**p値が有意水準以上だと、帰無仮説が棄却されないだけで、帰無仮説が正しいとは主張できません。**</u>\n",
    "\n",
    "[パラメトリックとノンパラメトリック(統計検定の手法)](https://data-science.gr.jp/theory/tbs_parametric.html)"
   ]
  },
  {
   "cell_type": "markdown",
   "metadata": {
    "slideshow": {
     "slide_type": "slide"
    }
   },
   "source": [
    "## WHY"
   ]
  },
  {
   "cell_type": "markdown",
   "metadata": {
    "slideshow": {
     "slide_type": "fragment"
    }
   },
   "source": [
    "正規性の検定は大きく２つの目的で実施されます。"
   ]
  },
  {
   "cell_type": "markdown",
   "metadata": {
    "slideshow": {
     "slide_type": "subslide"
    }
   },
   "source": [
    "### 1. データをきちんと収集できたか確かめる\n",
    "上記の正規分布のところで述べた通り、データをきちんと（≒偏りなく）集められたら、  \n",
    "それは正規分布に近づきます（特にnが大きくなるほど）。  \n",
    "一方、偏った収集を行うと正規分布に近づかないかもしれません。  \n",
    "そのため、データを <u>**きちんと集められたかを調べる目的**</u> で正規性の検定を行うことがあります。  "
   ]
  },
  {
   "cell_type": "markdown",
   "metadata": {
    "slideshow": {
     "slide_type": "subslide"
    }
   },
   "source": [
    "### 2. パラメトリック検定が可能か調べる\n",
    "統計検定にはパラメトリックな手法とノンパラメトリックな手法が存在します。  \n",
    "パラメトリックな手法とは、データが「ある分布」であることを仮定した上で仮説を検証する手法です。  \n",
    "特に、<u>**普通の**</u>データなら基本的に備わっているであろう<u>**正規分布**</u>であることを  \n",
    "仮定した手法が非常に多く存在します。  \n",
    "そのため、これらの検定を実施したい時は、データが正規分布であるか調べなければなりません。  "
   ]
  },
  {
   "cell_type": "markdown",
   "metadata": {
    "slideshow": {
     "slide_type": "subslide"
    }
   },
   "source": [
    "<u>**注意**</u>  \n",
    "<br>\n",
    "A. 例えば、データがたくさん集められていない場合は正しく計測できていても  \n",
    "正規分布になっているとは限りません。  \n",
    "B. 群間の比較をする時に正規性を仮定した検定にパラメトリックな手法を用いる場合、  \n",
    "<u>**全ての群が正規分布でないと使えません。**</u>"
   ]
  },
  {
   "cell_type": "markdown",
   "metadata": {
    "slideshow": {
     "slide_type": "slide"
    }
   },
   "source": [
    "## HOW"
   ]
  },
  {
   "cell_type": "markdown",
   "metadata": {
    "slideshow": {
     "slide_type": "fragment"
    }
   },
   "source": [
    "今回は、データの正規性を確認する方法として、以下の2つを紹介します。  \n",
    "\n",
    "- **視覚的に確認する方法**\n",
    "- **統計的な検定**\n",
    "\n",
    "[正規性の確認](https://bellcurve.jp/statistics/course/12931.html)  \n",
    "\n",
    "その前に、元となるデータを生成してみましょう。  "
   ]
  },
  {
   "cell_type": "markdown",
   "metadata": {
    "slideshow": {
     "slide_type": "slide"
    }
   },
   "source": [
    "### A. データ生成\n",
    "\n",
    "今回は正規分布、連続一様分布、ガンマ分布およびベータ分布を用意します。  \n",
    "[データ解析その前に: 分布型の確認と正規性の検定 #rstatsj](https://qiita.com/uri/items/e656f90e9dda342c54bb)"
   ]
  },
  {
   "cell_type": "code",
   "execution_count": 1,
   "metadata": {
    "slideshow": {
     "slide_type": "fragment"
    }
   },
   "outputs": [],
   "source": [
    "# データの定義\n",
    "df.normal <-  data.frame(x = rnorm(n = 1000, mean = 0, sd = 1)) # 正規分布（平均０、分散１）に従うランダムなデータ\n",
    "df.uniform <- data.frame(x = runif(n = 1000, min = 0, max = 1)) # 一様分布に従うランダムな200個の観測値データ\n",
    "df.gamma <-   data.frame(x = rgamma(n = 1000, shape = 1, rate = 1)) # ガンマ分布\n",
    "df.beta <-    data.frame(x = rbeta(n = 1000, shape1 = 2, shape2 = 5)) # ベータ分布\n",
    "\n",
    "name_list <- c(\"正規分布\", \"一様分布\", \"γ分布\", \"β分布\")\n",
    "df_list <- c(df.normal, df.uniform, df.gamma, df.beta)"
   ]
  },
  {
   "cell_type": "markdown",
   "metadata": {
    "slideshow": {
     "slide_type": "fragment"
    }
   },
   "source": [
    "[確率分布と乱数](http://cse.naro.affrc.go.jp/takezawa/r-tips/r/60.html)"
   ]
  },
  {
   "cell_type": "markdown",
   "metadata": {
    "slideshow": {
     "slide_type": "slide"
    }
   },
   "source": [
    "### B. 視覚的に確認する方法\n",
    "\n",
    "グラフを描画することで、正規分布に近いかどうかまずは感覚的に見ていきます。"
   ]
  },
  {
   "cell_type": "markdown",
   "metadata": {
    "slideshow": {
     "slide_type": "subslide"
    }
   },
   "source": [
    "#### 1. ヒストグラム\n",
    "まずはヒストグラムからどのような形のデータか確認しましょう。"
   ]
  },
  {
   "cell_type": "code",
   "execution_count": 5,
   "metadata": {
    "slideshow": {
     "slide_type": "fragment"
    }
   },
   "outputs": [
    {
     "data": {
      "image/png": "[encoded data removed]",
      "text/plain": [
       "Plot with title “β分布”"
      ]
     },
     "metadata": {},
     "output_type": "display_data"
    }
   ],
   "source": [
    "options(repr.plot.width=5, repr.plot.height=5) # 描画領域の指定\n",
    "par(mfrow=c(2,2))  # 画面を n * m 分割\n",
    "par(mar = c(3, 4, 3, 1)) #  余白を何行分とるか指定．下，左，上，右の順． 初期状態では 5.1, 4.1, 4.1, 2.1\n",
    "par(mgp = c(1.3, 0.5, 0))  #  ラベル文字， 軸の数字、軸の位置を何行分ずらすかを指定． 初期状態は c(3, 1, 0) \n",
    "\n",
    "hist(df.normal$x, main = \"正規分布\",  cex.main = 0.9,  cex.lab  = 0.8, cex.axis = 0.7)\n",
    "hist(df.uniform$x, main = \"一様分布\",  cex.main = 0.9,  cex.lab  = 0.8, cex.axis = 0.7)\n",
    "hist(df.gamma$x, main = \"γ分布\",  cex.main = 0.9,  cex.lab  = 0.8, cex.axis = 0.7)\n",
    "hist(df.beta$x, main = \"β分布\",  cex.main = 0.9,  cex.lab  = 0.8, cex.axis = 0.7)"
   ]
  },
  {
   "cell_type": "markdown",
   "metadata": {
    "slideshow": {
     "slide_type": "fragment"
    }
   },
   "source": [
    "正規分布からサンプリングしたグラフは正規分布になりますね。  \n",
    "次に、Q-Qプロットと呼ばれる方法を用いて可視化してみます。"
   ]
  },
  {
   "cell_type": "markdown",
   "metadata": {
    "slideshow": {
     "slide_type": "subslide"
    }
   },
   "source": [
    "#### 2. Q-Qプロット\n",
    "\n",
    "> QQプロットとは、X軸上に観測した累積パーセント、  \n",
    "> Y軸上に期待累積パーセントを持つグラフのことです。  \n",
    "> ヒストグラムよりなじみは薄いと思うので、わからなければ   \n",
    "> 一直線上になっていれば正規分布であるくらいに覚えておけばOKです。  \n",
    "> [正規分布かどうかを見極める3つのステップ（Pythonでの検定実践あり）](http://www.ie-kau.net/entry/2016/03/10/%E6%AD%A3%E8%A6%8F%E5%88%86%E5%B8%83%E3%81%8B%E3%81%A9%E3%81%86%E3%81%8B%E3%82%92%E8%A6%8B%E6%A5%B5%E3%82%81%E3%82%8B3%E3%81%A4%E3%81%AE%E3%82%B9%E3%83%86%E3%83%83%E3%83%97%EF%BC%88Python%EF%BC%89)  \n",
    "\n",
    "図解：[【統計学】Q-Qプロットの仕組みをアニメーションで理解する。](https://qiita.com/kenmatsu4/items/59605dc745707e8701e0)  "
   ]
  },
  {
   "cell_type": "markdown",
   "metadata": {
    "slideshow": {
     "slide_type": "fragment"
    }
   },
   "source": [
    "Q-Qプロットは、ヒストグラムから計算される累積分布関数と  \n",
    "調べたい分布(今回は理想的な正規分布)の累積分布関数の対応をプロットしたものになります。  \n",
    "<u>**Q-Qプロットが直線になれば、対象のデータは調べたい分布と同じ形状**</u> だと考えられます。  \n",
    "\n",
    "[正規性の検定](http://cse.naro.affrc.go.jp/takezawa/r-tips/r/63.html)  "
   ]
  },
  {
   "cell_type": "markdown",
   "metadata": {
    "slideshow": {
     "slide_type": "subslide"
    }
   },
   "source": [
    "ということで、実際に4つのデータのQ-Qプロットを描いてみましょう。  \n",
    "まずは累積分布関数を計算します。　　"
   ]
  },
  {
   "cell_type": "code",
   "execution_count": 9,
   "metadata": {
    "slideshow": {
     "slide_type": "fragment"
    }
   },
   "outputs": [],
   "source": [
    "# 累積分布関数を計算する\n",
    "Fn.normal <- ecdf(df.normal$x)\n",
    "Fn.uniform <- ecdf(df.uniform$x)\n",
    "Fn.gamma <- ecdf(df.gamma$x)\n",
    "Fn.beta <- ecdf(df.beta$x)"
   ]
  },
  {
   "cell_type": "markdown",
   "metadata": {
    "slideshow": {
     "slide_type": "subslide"
    }
   },
   "source": [
    "次に、４つのデータの累積分布関数をかいてみます。　"
   ]
  },
  {
   "cell_type": "code",
   "execution_count": 10,
   "metadata": {
    "scrolled": true,
    "slideshow": {
     "slide_type": "fragment"
    }
   },
   "outputs": [
    {
     "data": {
      "image/png": "[encoded data removed]",
      "text/plain": [
       "Plot with title “β分布”"
      ]
     },
     "metadata": {},
     "output_type": "display_data"
    }
   ],
   "source": [
    "#グラフを描画してみる\n",
    "par(oma = c(0, 0, 3.3, 0))   # 下・左・上・右の順で余白を設定\n",
    "par(mfrow=c(2,2))  # 画面を n * m 分割\n",
    "par(mar = c(3, 4, 3, 1)) #  余白を何行分とるか指定．下，左，上，右の順． 初期状態では 5.1, 4.1, 4.1, 2.1\n",
    "par(mgp = c(1.3, 0.5, 0))  #  ラベル文字， 軸の数字、軸の位置を何行分ずらすかを指定． 初期状態は c(3, 1, 0) \n",
    "\n",
    "plot(Fn.normal, do.point=F, verticals=T, main=\"正規分布\")   # 点を描かず，ジャンプ線（縦の線）を描く\n",
    "plot(Fn.uniform, do.point=F, verticals=T, main=\"一様分布\")   # 点を描かず，ジャンプ線（縦の線）を描く\n",
    "plot(Fn.gamma, do.point=F, verticals=T, main=\"γ分布\")   # 点を描かず，ジャンプ線（縦の線）を描く\n",
    "plot(Fn.beta, do.point=F, verticals=T, main=\"β分布\")   # 点を描かず，ジャンプ線（縦の線）を描く\n",
    "\n",
    "mtext(side = 3, line=1, outer=T, text = \"累積分布関数\", cex=1.2) # 全体のタイトル"
   ]
  },
  {
   "cell_type": "markdown",
   "metadata": {
    "slideshow": {
     "slide_type": "subslide"
    }
   },
   "source": [
    "最後に4つのデータのQ-Qプロットを描いてみましょう。  "
   ]
  },
  {
   "cell_type": "code",
   "execution_count": 1,
   "metadata": {
    "scrolled": true,
    "slideshow": {
     "slide_type": "fragment"
    }
   },
   "outputs": [
    {
     "ename": "ERROR",
     "evalue": "Error in qqnorm(df.normal$x, main = \"正規分布\"): object 'df.normal' not found\n",
     "output_type": "error",
     "traceback": [
      "Error in qqnorm(df.normal$x, main = \"正規分布\"): object 'df.normal' not found\nTraceback:\n",
      "1. qqnorm(df.normal$x, main = \"正規分布\")"
     ]
    }
   ],
   "source": [
    "par(oma = c(0, 0, 3.3, 0))   # 下・左・上・右の順で余白を設定\n",
    "par(mfrow=c(2,2))  # 画面を n * m 分割\n",
    "par(mar = c(3, 4, 3, 1)) #  余白を何行分とるか指定．下，左，上，右の順． 初期状態では 5.1, 4.1, 4.1, 2.1\n",
    "par(mgp = c(1.3, 0.5, 0))  #  ラベル文字， 軸の数字、軸の位置を何行分ずらすかを指定． 初期状態は c(3, 1, 0) \n",
    "\n",
    "qqnorm(df.normal$x, main=\"正規分布\")   # 点を描かず，ジャンプ線（縦の線）を描く\n",
    "qqnorm(df.uniform$x, main=\"一様分布\")   # 点を描かず，ジャンプ線（縦の線）を描く\n",
    "qqnorm(df.gamma$x, main=\"γ分布\")   # 点を描かず，ジャンプ線（縦の線）を描く\n",
    "qqnorm(df.beta$x, main=\"β分布\")   # 点を描かず，ジャンプ線（縦の線）を描く\n",
    "\n",
    " mtext(side = 3, line=1, outer=T, text = \"Q-Qプロット\", cex=1.2) # 全体のタイトル"
   ]
  },
  {
   "cell_type": "markdown",
   "metadata": {
    "slideshow": {
     "slide_type": "subslide"
    }
   },
   "source": [
    "正規分布のQ-Qプロットは、綺麗な直線を描いていますね。  \n",
    "一様分布、γ分布は明らかに直線ではないですが、 β分布は一見して正規分布と違いが見えませんね。  \n",
    "このように、グラフだけでは**「なんとなく正規分布っぽい」**ことしか分かりません。  "
   ]
  },
  {
   "cell_type": "markdown",
   "metadata": {
    "slideshow": {
     "slide_type": "slide"
    }
   },
   "source": [
    "### C. 正規性の検定"
   ]
  },
  {
   "cell_type": "markdown",
   "metadata": {
    "slideshow": {
     "slide_type": "fragment"
    }
   },
   "source": [
    "では、次により違いを定量的に扱う検定について見ていきましょう。  \n",
    "ここでは、代表的な手法を２つ紹介します。"
   ]
  },
  {
   "cell_type": "markdown",
   "metadata": {
    "slideshow": {
     "slide_type": "subslide"
    }
   },
   "source": [
    "#### 1. シャピロ・ウィルク検定\n",
    "\n",
    "> シャピロ・ウィルク検定はコルモゴロフ・スミルノフ検定等と同様に，  \n",
    "> 得られたデータが正規分布に従うものか否かを調べる検定法である．  \n",
    "> すなわち，**データが正規母集団に由来する**という帰無仮説を検定する．  \n",
    "> [Rによるシャピロ・ウィルク検定](https://data-science.gr.jp/implementation/ist_r_shapiro_wilk_test.html)  \n",
    "\n",
    "ここで、帰無仮説（データが正規母集団に由来する）が棄却されない≠データが正規母集団に由来する  \n",
    "とはならない ？？  "
   ]
  },
  {
   "cell_type": "markdown",
   "metadata": {
    "slideshow": {
     "slide_type": "subslide"
    }
   },
   "source": [
    "では、実際に検定してみましょう。"
   ]
  },
  {
   "cell_type": "code",
   "execution_count": 6,
   "metadata": {
    "scrolled": true,
    "slideshow": {
     "slide_type": "fragment"
    }
   },
   "outputs": [
    {
     "data": {
      "text/html": [
       "<table>\n",
       "<thead><tr><th scope=col>name</th><th scope=col>p_value</th><th scope=col>normal</th></tr></thead>\n",
       "<tbody>\n",
       "\t<tr><td>正規分布</td><td>0.4024  </td><td> TRUE   </td></tr>\n",
       "\t<tr><td>一様分布</td><td>0.0000  </td><td>FALSE   </td></tr>\n",
       "\t<tr><td>γ分布   </td><td>0.0000  </td><td>FALSE   </td></tr>\n",
       "\t<tr><td>β分布   </td><td>0.0000  </td><td>FALSE   </td></tr>\n",
       "</tbody>\n",
       "</table>\n"
      ],
      "text/latex": [
       "\\begin{tabular}{r|lll}\n",
       " name & p\\_value & normal\\\\\n",
       "\\hline\n",
       "\t 正規分布 & 0.4024   &  TRUE   \\\\\n",
       "\t 一様分布 & 0.0000   & FALSE   \\\\\n",
       "\t γ分布    & 0.0000   & FALSE   \\\\\n",
       "\t β分布    & 0.0000   & FALSE   \\\\\n",
       "\\end{tabular}\n"
      ],
      "text/markdown": [
       "\n",
       "| name | p_value | normal |\n",
       "|---|---|---|\n",
       "| 正規分布 | 0.4024   |  TRUE    |\n",
       "| 一様分布 | 0.0000   | FALSE    |\n",
       "| γ分布    | 0.0000   | FALSE    |\n",
       "| β分布    | 0.0000   | FALSE    |\n",
       "\n"
      ],
      "text/plain": [
       "  name     p_value normal\n",
       "1 正規分布 0.4024   TRUE \n",
       "2 一様分布 0.0000  FALSE \n",
       "3 γ分布    0.0000  FALSE \n",
       "4 β分布    0.0000  FALSE "
      ]
     },
     "metadata": {},
     "output_type": "display_data"
    }
   ],
   "source": [
    "sh.normal <- shapiro.test(x=df.normal$x)\n",
    "sh.uniform <- shapiro.test(x=df.uniform$x)\n",
    "sh.gamma <- shapiro.test(x=df.gamma$x)\n",
    "sh.beta<- shapiro.test(x=df.beta$x)\n",
    "\n",
    "\n",
    "p_list <- round(c(sh.normal$p.value, sh.uniform$p.value, sh.gamma$p.value, sh.beta$p.value), 4)\n",
    "\n",
    "bool_list <- c(sh.normal$p.value > 0.05, sh.uniform$p.value > 0.05, sh.gamma$p.value > 0.05, sh.beta$p.value > 0.05)\n",
    "\n",
    "frame <-  data.frame(name=name_list, p_value=p_list, normal=bool_list)\n",
    "frame"
   ]
  },
  {
   "cell_type": "markdown",
   "metadata": {
    "slideshow": {
     "slide_type": "fragment"
    }
   },
   "source": [
    "シャピロ・ウィルク検定の結果、正規分布以外の３つは正規分布ではないという結果になりました。"
   ]
  },
  {
   "cell_type": "markdown",
   "metadata": {
    "slideshow": {
     "slide_type": "subslide"
    }
   },
   "source": [
    "#### 2. コルモゴロフ・スミルノフ検定\n",
    "\n",
    "> コルモゴロフ-スミルノフ検定は２つの母集団の確率分布が異なるかどうかを調べるために用いられる。  \n",
    "> データの分布型の位置と形が考慮されるため、比較対象に正規分布からなるデータを指定すれば、  \n",
    "> 手持ちのデータが正規分布と等しいか異なるかがわかる。  \n",
    "> 帰無仮説は「二つの分布が等しい」である。  \n",
    "> [データ解析その前に: 分布型の確認と正規性の検定 #rstatsj](https://qiita.com/uri/items/e656f90e9dda342c54bb)\n",
    "\n",
    "ここで、帰無仮説（二つの分布が等しい）が棄却されない≠データが正規母集団に由来するとはならない ？？  "
   ]
  },
  {
   "cell_type": "markdown",
   "metadata": {
    "slideshow": {
     "slide_type": "subslide"
    }
   },
   "source": [
    "では、実際に検定してみましょう。"
   ]
  },
  {
   "cell_type": "code",
   "execution_count": 5,
   "metadata": {
    "scrolled": true,
    "slideshow": {
     "slide_type": "fragment"
    }
   },
   "outputs": [
    {
     "data": {
      "text/html": [
       "<table>\n",
       "<thead><tr><th scope=col>name</th><th scope=col>p_value</th><th scope=col>normal</th></tr></thead>\n",
       "<tbody>\n",
       "\t<tr><td>正規分布</td><td>0.6097  </td><td> TRUE   </td></tr>\n",
       "\t<tr><td>一様分布</td><td>0.0001  </td><td>FALSE   </td></tr>\n",
       "\t<tr><td>γ分布   </td><td>0.0000  </td><td>FALSE   </td></tr>\n",
       "\t<tr><td>β分布   </td><td>0.0003  </td><td>FALSE   </td></tr>\n",
       "</tbody>\n",
       "</table>\n"
      ],
      "text/latex": [
       "\\begin{tabular}{r|lll}\n",
       " name & p\\_value & normal\\\\\n",
       "\\hline\n",
       "\t 正規分布 & 0.6097   &  TRUE   \\\\\n",
       "\t 一様分布 & 0.0001   & FALSE   \\\\\n",
       "\t γ分布    & 0.0000   & FALSE   \\\\\n",
       "\t β分布    & 0.0003   & FALSE   \\\\\n",
       "\\end{tabular}\n"
      ],
      "text/markdown": [
       "\n",
       "| name | p_value | normal |\n",
       "|---|---|---|\n",
       "| 正規分布 | 0.6097   |  TRUE    |\n",
       "| 一様分布 | 0.0001   | FALSE    |\n",
       "| γ分布    | 0.0000   | FALSE    |\n",
       "| β分布    | 0.0003   | FALSE    |\n",
       "\n"
      ],
      "text/plain": [
       "  name     p_value normal\n",
       "1 正規分布 0.6097   TRUE \n",
       "2 一様分布 0.0001  FALSE \n",
       "3 γ分布    0.0000  FALSE \n",
       "4 β分布    0.0003  FALSE "
      ]
     },
     "metadata": {},
     "output_type": "display_data"
    }
   ],
   "source": [
    "ksd.normal <- ks.test(x=df.normal$x, y=\"pnorm\", mean=mean(df.normal$x),sd=sd(df.normal$x)) \n",
    "ksd.uniform <-  ks.test(x=df.uniform$x, y=\"pnorm\", mean=mean(df.uniform$x),sd=sd(df.uniform$x)) \n",
    "ksd.gamma <-  ks.test(x=df.gamma$x, y=\"pnorm\", mean=mean(df.gamma$x),sd=sd(df.gamma$x)) \n",
    "ksd.beta<-  ks.test(x=df.beta$x, y=\"pnorm\", mean=mean(df.beta$x),sd=sd(df.beta$x)) \n",
    "\n",
    "p_list <- round(c(ksd.normal$p.value, ksd.uniform$p.value, ksd.gamma$p.value, ksd.beta$p.value), 4)\n",
    "bool_list <- c(ksd.normal$p.value > 0.05, ksd.uniform$p.value > 0.05, ksd.gamma$p.value > 0.05, ksd.beta$p.value > 0.05)\n",
    "\n",
    "frame <-  data.frame(name=name_list, p_value=p_list, normal=bool_list)\n",
    "frame"
   ]
  },
  {
   "cell_type": "markdown",
   "metadata": {
    "slideshow": {
     "slide_type": "fragment"
    }
   },
   "source": [
    "コルモゴノフ・スミノフ検定の結果、正規分布以外の３つは正規分布ではないという結果になりました。"
   ]
  },
  {
   "cell_type": "markdown",
   "metadata": {
    "slideshow": {
     "slide_type": "slide"
    }
   },
   "source": [
    "## まとめ"
   ]
  },
  {
   "cell_type": "markdown",
   "metadata": {
    "slideshow": {
     "slide_type": "fragment"
    }
   },
   "source": [
    "今回は、\n",
    "\n",
    "- 正規性の検定とは何か\n",
    "- 何のために行うのか\n",
    "- どうやって行うのか\n",
    "\n",
    "について説明しました。  \n",
    "皆さんもぜひ使いこなしてください！！"
   ]
  }
 ],
 "metadata": {
  "celltoolbar": "Slideshow",
  "hide_input": false,
  "kernelspec": {
   "display_name": "R",
   "language": "R",
   "name": "ir"
  },
  "language_info": {
   "codemirror_mode": "r",
   "file_extension": ".r",
   "mimetype": "text/x-r-source",
   "name": "R",
   "pygments_lexer": "r",
   "version": "3.5.1"
  },
  "latex_envs": {
   "LaTeX_envs_menu_present": true,
   "autoclose": false,
   "autocomplete": true,
   "bibliofile": "biblio.bib",
   "cite_by": "apalike",
   "current_citInitial": 1,
   "eqLabelWithNumbers": true,
   "eqNumInitial": 1,
   "hotkeys": {
    "equation": "Ctrl-E",
    "itemize": "Ctrl-I"
   },
   "labels_anchors": false,
   "latex_user_defs": false,
   "report_style_numbering": false,
   "user_envs_cfg": false
  },
  "nbTranslate": {
   "displayLangs": [
    "*"
   ],
   "hotkey": "alt-t",
   "langInMainMenu": true,
   "sourceLang": "en",
   "targetLang": "fr",
   "useGoogleTranslate": true
  },
  "toc": {
   "base_numbering": 1,
   "nav_menu": {},
   "number_sections": false,
   "sideBar": true,
   "skip_h1_title": true,
   "title_cell": "Table of Contents",
   "title_sidebar": "Contents",
   "toc_cell": true,
   "toc_position": {},
   "toc_section_display": true,
   "toc_window_display": false
  }
 },
 "nbformat": 4,
 "nbformat_minor": 2
}
